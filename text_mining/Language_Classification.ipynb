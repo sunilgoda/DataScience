{
 "cells": [
  {
   "cell_type": "code",
   "execution_count": 33,
   "metadata": {
    "ExecuteTime": {
     "end_time": "2018-12-04T05:54:41.122746Z",
     "start_time": "2018-12-04T05:54:41.105285Z"
    }
   },
   "outputs": [],
   "source": [
    "import numpy as np\n",
    "import pandas as pd\n",
    "from sklearn.model_selection import *\n",
    "from sklearn.linear_model import LogisticRegression\n",
    "from sklearn.naive_bayes import GaussianNB\n",
    "from sklearn.neighbors import KNeighborsClassifier\n",
    "from sklearn.svm import SVC\n",
    "from sklearn.feature_extraction.text import TfidfVectorizer,CountVectorizer\n",
    "from sklearn.metrics import accuracy_score,classification_report,confusion_matrix\n",
    "from xgboost import XGBClassifier\n",
    "from nltk.text import *\n",
    "from nltk.corpus import stopwords\n",
    "\n",
    "import matplotlib.pyplot as plt\n",
    "%matplotlib inline"
   ]
  },
  {
   "cell_type": "markdown",
   "metadata": {},
   "source": [
    "#### Read German and English articles into different variables"
   ]
  },
  {
   "cell_type": "code",
   "execution_count": 34,
   "metadata": {
    "ExecuteTime": {
     "end_time": "2018-12-04T05:54:41.230494Z",
     "start_time": "2018-12-04T05:54:41.124878Z"
    }
   },
   "outputs": [],
   "source": [
    "count = 1\n",
    "german_strs = []\n",
    "english_strs = []\n",
    "with open(\"english_german_articles.txt\",\"r\",encoding=\"utf-8\") as f:\n",
    "    for line in f.readlines():\n",
    "        if(count <= 90):\n",
    "            german_strs.append(line)\n",
    "        else:\n",
    "            english_strs.append(line)\n",
    "        count = count + 1"
   ]
  },
  {
   "cell_type": "code",
   "execution_count": 35,
   "metadata": {
    "ExecuteTime": {
     "end_time": "2018-12-04T05:54:41.330406Z",
     "start_time": "2018-12-04T05:54:41.232576Z"
    }
   },
   "outputs": [
    {
     "name": "stdout",
     "output_type": "stream",
     "text": [
      "90\n",
      "90\n"
     ]
    }
   ],
   "source": [
    "print(len(german_strs))\n",
    "print(len(english_strs))"
   ]
  },
  {
   "cell_type": "code",
   "execution_count": 36,
   "metadata": {
    "ExecuteTime": {
     "end_time": "2018-12-04T05:54:41.405338Z",
     "start_time": "2018-12-04T05:54:41.333104Z"
    }
   },
   "outputs": [
    {
     "name": "stdout",
     "output_type": "stream",
     "text": [
      ", \"name\": \n"
     ]
    }
   ],
   "source": [
    "splitter = \", \\\"name\\\": \"\n",
    "print(splitter)"
   ]
  },
  {
   "cell_type": "markdown",
   "metadata": {},
   "source": [
    "#### Gather English and German stopwords"
   ]
  },
  {
   "cell_type": "code",
   "execution_count": 37,
   "metadata": {
    "ExecuteTime": {
     "end_time": "2018-12-04T05:54:41.484109Z",
     "start_time": "2018-12-04T05:54:41.408570Z"
    }
   },
   "outputs": [
    {
     "name": "stdout",
     "output_type": "stream",
     "text": [
      "410   ['aber', 'alle', 'allem', 'allen', 'aller', 'alles', 'als', 'also', 'am', 'an', 'ander', 'andere', 'anderem', 'anderen', 'anderer', 'anderes', 'anderm', 'andern', 'anderr', 'anders', 'auch', 'auf', 'aus', 'bei', 'bin', 'bis', 'bist', 'da', 'damit', 'dann', 'der', 'den', 'des', 'dem', 'die', 'das', 'daß', 'derselbe', 'derselben', 'denselben', 'desselben', 'demselben', 'dieselbe', 'dieselben', 'dasselbe', 'dazu', 'dein', 'deine', 'deinem', 'deinen', 'deiner', 'deines', 'denn', 'derer', 'dessen', 'dich', 'dir', 'du', 'dies', 'diese', 'diesem', 'diesen', 'dieser', 'dieses', 'doch', 'dort', 'durch', 'ein', 'eine', 'einem', 'einen', 'einer', 'eines', 'einig', 'einige', 'einigem', 'einigen', 'einiger', 'einiges', 'einmal', 'er', 'ihn', 'ihm', 'es', 'etwas', 'euer', 'eure', 'eurem', 'euren', 'eurer', 'eures', 'für', 'gegen', 'gewesen', 'hab', 'habe', 'haben', 'hat', 'hatte', 'hatten', 'hier', 'hin', 'hinter', 'ich', 'mich', 'mir', 'ihr', 'ihre', 'ihrem', 'ihren', 'ihrer', 'ihres', 'euch', 'im', 'in', 'indem', 'ins', 'ist', 'jede', 'jedem', 'jeden', 'jeder', 'jedes', 'jene', 'jenem', 'jenen', 'jener', 'jenes', 'jetzt', 'kann', 'kein', 'keine', 'keinem', 'keinen', 'keiner', 'keines', 'können', 'könnte', 'machen', 'man', 'manche', 'manchem', 'manchen', 'mancher', 'manches', 'mein', 'meine', 'meinem', 'meinen', 'meiner', 'meines', 'mit', 'muss', 'musste', 'nach', 'nicht', 'nichts', 'noch', 'nun', 'nur', 'ob', 'oder', 'ohne', 'sehr', 'sein', 'seine', 'seinem', 'seinen', 'seiner', 'seines', 'selbst', 'sich', 'sie', 'ihnen', 'sind', 'so', 'solche', 'solchem', 'solchen', 'solcher', 'solches', 'soll', 'sollte', 'sondern', 'sonst', 'über', 'um', 'und', 'uns', 'unsere', 'unserem', 'unseren', 'unser', 'unseres', 'unter', 'viel', 'vom', 'von', 'vor', 'während', 'war', 'waren', 'warst', 'was', 'weg', 'weil', 'weiter', 'welche', 'welchem', 'welchen', 'welcher', 'welches', 'wenn', 'werde', 'werden', 'wie', 'wieder', 'will', 'wir', 'wird', 'wirst', 'wo', 'wollen', 'wollte', 'würde', 'würden', 'zu', 'zum', 'zur', 'zwar', 'zwischen', 'i', 'me', 'my', 'myself', 'we', 'our', 'ours', 'ourselves', 'you', \"you're\", \"you've\", \"you'll\", \"you'd\", 'your', 'yours', 'yourself', 'yourselves', 'he', 'him', 'his', 'himself', 'she', \"she's\", 'her', 'hers', 'herself', 'it', \"it's\", 'its', 'itself', 'they', 'them', 'their', 'theirs', 'themselves', 'what', 'which', 'who', 'whom', 'this', 'that', \"that'll\", 'these', 'those', 'am', 'is', 'are', 'was', 'were', 'be', 'been', 'being', 'have', 'has', 'had', 'having', 'do', 'does', 'did', 'doing', 'a', 'an', 'the', 'and', 'but', 'if', 'or', 'because', 'as', 'until', 'while', 'of', 'at', 'by', 'for', 'with', 'about', 'against', 'between', 'into', 'through', 'during', 'before', 'after', 'above', 'below', 'to', 'from', 'up', 'down', 'in', 'out', 'on', 'off', 'over', 'under', 'again', 'further', 'then', 'once', 'here', 'there', 'when', 'where', 'why', 'how', 'all', 'any', 'both', 'each', 'few', 'more', 'most', 'other', 'some', 'such', 'no', 'nor', 'not', 'only', 'own', 'same', 'so', 'than', 'too', 'very', 's', 't', 'can', 'will', 'just', 'don', \"don't\", 'should', \"should've\", 'now', 'd', 'll', 'm', 'o', 're', 've', 'y', 'ain', 'aren', \"aren't\", 'couldn', \"couldn't\", 'didn', \"didn't\", 'doesn', \"doesn't\", 'hadn', \"hadn't\", 'hasn', \"hasn't\", 'haven', \"haven't\", 'isn', \"isn't\", 'ma', 'mightn', \"mightn't\", 'mustn', \"mustn't\", 'needn', \"needn't\", 'shan', \"shan't\", 'shouldn', \"shouldn't\", 'wasn', \"wasn't\", 'weren', \"weren't\", 'won', \"won't\", 'wouldn', \"wouldn't\"]\n"
     ]
    }
   ],
   "source": [
    "en_stop_words = stopwords.words('english')\n",
    "ge_stop_words = stopwords.words('german')\n",
    "stop_words = ge_stop_words + en_stop_words\n",
    "print(len(stop_words),\" \",stop_words)"
   ]
  },
  {
   "cell_type": "code",
   "execution_count": 38,
   "metadata": {
    "ExecuteTime": {
     "end_time": "2018-12-04T05:54:41.558746Z",
     "start_time": "2018-12-04T05:54:41.486167Z"
    }
   },
   "outputs": [],
   "source": [
    "ge_labels = ['ge'] * len(german_strs)\n",
    "en_labels = ['en'] * len(english_strs)"
   ]
  },
  {
   "cell_type": "code",
   "execution_count": 39,
   "metadata": {
    "ExecuteTime": {
     "end_time": "2018-12-04T05:54:41.626945Z",
     "start_time": "2018-12-04T05:54:41.561574Z"
    }
   },
   "outputs": [
    {
     "name": "stdout",
     "output_type": "stream",
     "text": [
      "'master of Ö ă ä ž \\xa0 the'\n",
      "master of Ö ă ä ž   the\n"
     ]
    }
   ],
   "source": [
    "#scratchpad -ignore\n",
    "var1 = 'master of \\u00d6 \\u0103 \\u00e4 \\u017e \\u00a0 the'\n",
    "print(repr(var1))\n",
    "print(str(var1))"
   ]
  },
  {
   "cell_type": "code",
   "execution_count": 40,
   "metadata": {
    "ExecuteTime": {
     "end_time": "2018-12-04T05:54:41.702392Z",
     "start_time": "2018-12-04T05:54:41.629319Z"
    }
   },
   "outputs": [],
   "source": [
    "#scratchpad -ignore\n",
    "text=u\"\"\"Europython 2005\n",
    "G\\u00f6teborg, Sweden\n",
    "\\u8463\\u5049\\u696d\n",
    "Hotel rates 100\\N{euro sign}\n",
    "\"\"\"\n",
    "\n",
    "import codecs \n",
    "\n",
    "def printu(ustr):\n",
    "    print(ustr.encode('raw_unicode_escape'))\n",
    "    \n",
    "def saveu(ustr, filename='output2.txt'):\n",
    "    open(filename,'wb').write(codecs.BOM_UTF8 + ustr.encode('utf8'))\n",
    "\n",
    "saveu(text)"
   ]
  },
  {
   "cell_type": "code",
   "execution_count": 41,
   "metadata": {
    "ExecuteTime": {
     "end_time": "2018-12-04T05:54:41.781239Z",
     "start_time": "2018-12-04T05:54:41.704222Z"
    }
   },
   "outputs": [],
   "source": [
    "all_articles = german_strs + english_strs\n",
    "all_labels = ge_labels + en_labels"
   ]
  },
  {
   "cell_type": "markdown",
   "metadata": {},
   "source": [
    "#### Create DataFrame with all articles and labels"
   ]
  },
  {
   "cell_type": "code",
   "execution_count": 42,
   "metadata": {
    "ExecuteTime": {
     "end_time": "2018-12-04T05:54:41.857999Z",
     "start_time": "2018-12-04T05:54:41.783995Z"
    }
   },
   "outputs": [],
   "source": [
    "all_df = pd.DataFrame({\"article\":all_articles,'label':all_labels})"
   ]
  },
  {
   "cell_type": "code",
   "execution_count": 43,
   "metadata": {
    "ExecuteTime": {
     "end_time": "2018-12-04T05:54:41.943600Z",
     "start_time": "2018-12-04T05:54:41.860331Z"
    }
   },
   "outputs": [
    {
     "name": "stdout",
     "output_type": "stream",
     "text": [
      "                                             article label\n",
      "0  \\u201eWikipedia, Die freie Enzyklop\\u00e4die\\u...    ge\n",
      "1  Nachfolgend befindet sich der f\\u00fcr Wikiped...    ge\n",
      "2  Dieses ist die Datenschutz-Erkl\\u00e4rung von ...    ge\n",
      "3  Wikipedia ist ein Projekt zum Aufbau einer Enz...    ge\n",
      "4  Mit der Buchfunktion kannst du ein Buch aus be...    ge\n",
      "                                               article label\n",
      "175  A modular connector is an electrical connector...    en\n",
      "176  Ethernet /\\u02c8i\\u02d0\\u03b8\\u0259rn\\u025bt/ ...    en\n",
      "177  Digital Equipment Corporation, also known as D...    en\n",
      "178  October 1 is the 274th day of the year (275th ...    en\n",
      "179  September 29 is the 272nd day of the year (273...    en\n"
     ]
    }
   ],
   "source": [
    "print(all_df.head())\n",
    "print(all_df.tail())"
   ]
  },
  {
   "cell_type": "code",
   "execution_count": 44,
   "metadata": {
    "ExecuteTime": {
     "end_time": "2018-12-04T05:54:42.012517Z",
     "start_time": "2018-12-04T05:54:41.945751Z"
    }
   },
   "outputs": [],
   "source": [
    "rand_no = 12345\n",
    "score_param = 'accuracy'"
   ]
  },
  {
   "cell_type": "code",
   "execution_count": 45,
   "metadata": {
    "ExecuteTime": {
     "end_time": "2018-12-04T05:54:42.092384Z",
     "start_time": "2018-12-04T05:54:42.014908Z"
    }
   },
   "outputs": [
    {
     "name": "stdout",
     "output_type": "stream",
     "text": [
      "(180, 2)\n"
     ]
    }
   ],
   "source": [
    "all_df = all_df.sample(frac=1,random_state=rand_no)\n",
    "print(all_df.shape)"
   ]
  },
  {
   "cell_type": "markdown",
   "metadata": {},
   "source": [
    "#### Split data into 72:18:10 ratios for train:validation:test datasets"
   ]
  },
  {
   "cell_type": "code",
   "execution_count": 46,
   "metadata": {
    "ExecuteTime": {
     "end_time": "2018-12-04T05:54:42.173125Z",
     "start_time": "2018-12-04T05:54:42.094251Z"
    }
   },
   "outputs": [],
   "source": [
    "X_train,X_test,y_train,y_test = train_test_split(all_df['article'],all_df['label'],test_size = 0.1, random_state= rand_no)"
   ]
  },
  {
   "cell_type": "code",
   "execution_count": 47,
   "metadata": {
    "ExecuteTime": {
     "end_time": "2018-12-04T05:54:42.248480Z",
     "start_time": "2018-12-04T05:54:42.175692Z"
    }
   },
   "outputs": [],
   "source": [
    "X_train,X_val,y_train,y_val = train_test_split(X_train,y_train,test_size = 0.2, random_state= rand_no)"
   ]
  },
  {
   "cell_type": "code",
   "execution_count": 48,
   "metadata": {
    "ExecuteTime": {
     "end_time": "2018-12-04T05:54:42.324323Z",
     "start_time": "2018-12-04T05:54:42.254355Z"
    }
   },
   "outputs": [
    {
     "name": "stdout",
     "output_type": "stream",
     "text": [
      "(129,)  -  (129,)\n",
      "(33,)  -  (33,)\n",
      "(18,)  -  (18,)\n"
     ]
    }
   ],
   "source": [
    "print(X_train.shape,\" - \", y_train.shape)\n",
    "print(X_val.shape ,\" - \", y_val.shape)\n",
    "print(X_test.shape,\" - \", y_test.shape)"
   ]
  },
  {
   "cell_type": "markdown",
   "metadata": {},
   "source": [
    "#### Vectorize the datasets"
   ]
  },
  {
   "cell_type": "code",
   "execution_count": 49,
   "metadata": {
    "ExecuteTime": {
     "end_time": "2018-12-04T05:54:44.863580Z",
     "start_time": "2018-12-04T05:54:42.326722Z"
    }
   },
   "outputs": [
    {
     "name": "stderr",
     "output_type": "stream",
     "text": [
      "/opt/anaconda3/lib/python3.6/site-packages/sklearn/feature_extraction/text.py:286: UserWarning: Your stop_words may be inconsistent with your preprocessing. Tokenizing the stop words generated tokens ['fur', 'konnen', 'konnte', 'uber', 'wahrend', 'wurde', 'wurden'] not in stop_words.\n",
      "  sorted(inconsistent))\n"
     ]
    }
   ],
   "source": [
    "vectorizer = TfidfVectorizer(\n",
    "    ngram_range=(1, 4),\n",
    "    stop_words=stop_words,\n",
    "    min_df=8,\n",
    "    max_df=50,\n",
    "    lowercase=True,\n",
    "    strip_accents='ascii')\n",
    "X_train_matrix = vectorizer.fit_transform(X_train).toarray()\n",
    "X_val_matrix = vectorizer.transform(X_val).toarray()\n",
    "X_test_matrix = vectorizer.transform(X_test).toarray()"
   ]
  },
  {
   "cell_type": "code",
   "execution_count": 50,
   "metadata": {
    "ExecuteTime": {
     "end_time": "2018-12-04T05:54:44.873875Z",
     "start_time": "2018-12-04T05:54:44.866444Z"
    }
   },
   "outputs": [
    {
     "name": "stdout",
     "output_type": "stream",
     "text": [
      "(129, 1371)\n",
      "(33, 1371)\n",
      "(18, 1371)\n",
      "(1371,)\n"
     ]
    }
   ],
   "source": [
    "print(X_train_matrix.shape)\n",
    "print(X_val_matrix.shape)\n",
    "print(X_test_matrix.shape)\n",
    "print(vectorizer.idf_.shape)"
   ]
  },
  {
   "cell_type": "markdown",
   "metadata": {},
   "source": [
    "#### Utility function to fit the model, predict metrics"
   ]
  },
  {
   "cell_type": "code",
   "execution_count": 51,
   "metadata": {
    "ExecuteTime": {
     "end_time": "2018-12-04T05:54:45.191079Z",
     "start_time": "2018-12-04T05:54:44.876755Z"
    }
   },
   "outputs": [],
   "source": [
    "models = []\n",
    "scores = []\n",
    "train_preds = None\n",
    "val_preds= None\n",
    "\n",
    "    #main method to fit a model,do predictions and print metrics\n",
    "def predictModelMetrics(model,model_name):\n",
    "    train_preds,val_preds = resetPreds()\n",
    "    train_preds,val_preds = doPredict(model,model_name)\n",
    "    printMetrics(model,train_preds,val_preds)\n",
    "     \n",
    "    #reset prediction variables before running next model\n",
    "def resetPreds():\n",
    "    train_preds = None\n",
    "    val_preds = None\n",
    "    return train_preds,val_preds\n",
    "\n",
    "    #make predictions\n",
    "def doPredict(model,model_name):\n",
    "    model.fit(X_train_matrix,y_train)\n",
    "    train_preds = model.predict(X_train_matrix)\n",
    "    val_preds = model.predict(X_val_matrix)\n",
    "    models.append(model_name)\n",
    "    return train_preds,val_preds\n",
    "\n",
    "    #prints and captures metrics\n",
    "def printMetrics(model,train_preds,val_preds):\n",
    "    print(\"Train Accuracy: %.2f\"%accuracy_score(y_train,train_preds))\n",
    "    \n",
    "    #k-fold with k=5\n",
    "    val_scores = cross_val_score(model,X_val_matrix,y_val, cv=5, scoring=score_param)\n",
    "    cv_score = val_scores.mean()\n",
    "    print(\"Cross Validation Accuracy: %.2f\" %cv_score)\n",
    "    \n",
    "    print(\"-------------------------------------\")\n",
    "    print(\"Confusion Matrix:\")\n",
    "    print(pd.crosstab(y_val,val_preds,rownames=['Actual'],colnames=['Predicted'],margins=True))\n",
    "    #print(classification_report(y_val,val_preds))\n",
    "    scores.append(round(cv_score,2))\n",
    "    \n",
    "    #print summary of model accuracies\n",
    "def summarizeResults():\n",
    "    results = pd.DataFrame({\"Model\":models, \"Score\":scores})\n",
    "    print(results)"
   ]
  },
  {
   "cell_type": "code",
   "execution_count": 52,
   "metadata": {
    "ExecuteTime": {
     "end_time": "2018-12-04T05:54:45.279230Z",
     "start_time": "2018-12-04T05:54:45.193262Z"
    }
   },
   "outputs": [
    {
     "name": "stdout",
     "output_type": "stream",
     "text": [
      "[10, 20, 30] [100, 200, 300]\n"
     ]
    }
   ],
   "source": [
    "#Scratchpad -ignore\n",
    "val1 = None\n",
    "val2 = None\n",
    "def init():\n",
    "    val1 = [10,20,30]\n",
    "    val2 = [100,200,300]\n",
    "    return val1,val2\n",
    "\n",
    "val1,val2 = init()\n",
    "print(val1, val2)"
   ]
  },
  {
   "cell_type": "markdown",
   "metadata": {
    "ExecuteTime": {
     "end_time": "2018-11-30T08:12:25.851656Z",
     "start_time": "2018-11-30T08:12:25.844396Z"
    }
   },
   "source": [
    "#### Naive Bayes"
   ]
  },
  {
   "cell_type": "code",
   "execution_count": 53,
   "metadata": {
    "ExecuteTime": {
     "end_time": "2018-12-04T05:54:45.440944Z",
     "start_time": "2018-12-04T05:54:45.281249Z"
    }
   },
   "outputs": [
    {
     "name": "stdout",
     "output_type": "stream",
     "text": [
      "Train Accuracy: 0.99\n",
      "Cross Validation Accuracy: 0.97\n",
      "-------------------------------------\n",
      "Confusion Matrix:\n",
      "Predicted  en  ge  All\n",
      "Actual                \n",
      "en         17   1   18\n",
      "ge          0  15   15\n",
      "All        17  16   33\n"
     ]
    }
   ],
   "source": [
    "nbayes = GaussianNB()\n",
    "predictModelMetrics(nbayes,\"Naive Bayes\")"
   ]
  },
  {
   "cell_type": "markdown",
   "metadata": {},
   "source": [
    "#### Logistic Regression"
   ]
  },
  {
   "cell_type": "code",
   "execution_count": 54,
   "metadata": {
    "ExecuteTime": {
     "end_time": "2018-12-04T05:54:45.527296Z",
     "start_time": "2018-12-04T05:54:45.443714Z"
    }
   },
   "outputs": [
    {
     "name": "stdout",
     "output_type": "stream",
     "text": [
      "Train Accuracy: 0.92\n",
      "Cross Validation Accuracy: 0.67\n",
      "-------------------------------------\n",
      "Confusion Matrix:\n",
      "Predicted  en  ge  All\n",
      "Actual                \n",
      "en         17   1   18\n",
      "ge          2  13   15\n",
      "All        19  14   33\n"
     ]
    }
   ],
   "source": [
    "logistic_reg = LogisticRegression(solver='liblinear',penalty='l1')\n",
    "predictModelMetrics(logistic_reg, \"Logistic Regression\")"
   ]
  },
  {
   "cell_type": "markdown",
   "metadata": {},
   "source": [
    "#### Finding optimal k value"
   ]
  },
  {
   "cell_type": "code",
   "execution_count": 55,
   "metadata": {
    "ExecuteTime": {
     "end_time": "2018-12-04T05:54:46.263273Z",
     "start_time": "2018-12-04T05:54:45.530292Z"
    }
   },
   "outputs": [],
   "source": [
    "mean_errors =[]\n",
    "k_range = range(1,50)\n",
    "for i in k_range:\n",
    "    knn = KNeighborsClassifier(n_neighbors=i)\n",
    "    knn.fit(X_train_matrix,y_train)\n",
    "    pred_i = knn.predict(X_val_matrix)\n",
    "    mean_errors.append(np.mean(y_val != pred_i))\n",
    "    "
   ]
  },
  {
   "cell_type": "code",
   "execution_count": 56,
   "metadata": {
    "ExecuteTime": {
     "end_time": "2018-12-04T05:54:46.446459Z",
     "start_time": "2018-12-04T05:54:46.265773Z"
    }
   },
   "outputs": [
    {
     "data": {
      "image/png": "[encoded data removed]",
      "text/plain": [
       "<Figure size 864x432 with 1 Axes>"
      ]
     },
     "metadata": {},
     "output_type": "display_data"
    }
   ],
   "source": [
    "plt.figure(figsize=(12,6))\n",
    "plt.title(\"Error rate change with K\")\n",
    "plt.plot(k_range,mean_errors,marker='o')\n",
    "plt.xlabel(\"K value\")\n",
    "plt.ylabel(\"Mean Error\");"
   ]
  },
  {
   "cell_type": "markdown",
   "metadata": {},
   "source": [
    "#### k=3 is the better value with high decrease in error"
   ]
  },
  {
   "cell_type": "code",
   "execution_count": 57,
   "metadata": {
    "ExecuteTime": {
     "end_time": "2018-12-04T05:54:46.567896Z",
     "start_time": "2018-12-04T05:54:46.449112Z"
    }
   },
   "outputs": [
    {
     "name": "stdout",
     "output_type": "stream",
     "text": [
      "Train Accuracy: 0.98\n",
      "Cross Validation Accuracy: 0.91\n",
      "-------------------------------------\n",
      "Confusion Matrix:\n",
      "Predicted  en  ge  All\n",
      "Actual                \n",
      "en         17   1   18\n",
      "ge          2  13   15\n",
      "All        19  14   33\n"
     ]
    }
   ],
   "source": [
    "knn = KNeighborsClassifier(n_neighbors=5)\n",
    "predictModelMetrics(knn,\"KNN\")"
   ]
  },
  {
   "cell_type": "markdown",
   "metadata": {
    "ExecuteTime": {
     "end_time": "2018-11-28T03:16:32.453041Z",
     "start_time": "2018-11-28T03:16:32.449944Z"
    }
   },
   "source": [
    "#### SVC Model"
   ]
  },
  {
   "cell_type": "code",
   "execution_count": 58,
   "metadata": {
    "ExecuteTime": {
     "end_time": "2018-12-04T05:54:46.575929Z",
     "start_time": "2018-12-04T05:54:46.570712Z"
    }
   },
   "outputs": [],
   "source": [
    "param_grid = {\"C\":np.arange(0.001,2,0.1),\n",
    "              \"gamma\":np.arange(0.001,2,0.1),\n",
    "             \"kernel\":['linear','rbf','sigmoid']}"
   ]
  },
  {
   "cell_type": "code",
   "execution_count": 59,
   "metadata": {
    "ExecuteTime": {
     "end_time": "2018-12-04T05:54:46.651152Z",
     "start_time": "2018-12-04T05:54:46.579202Z"
    }
   },
   "outputs": [],
   "source": [
    "svc = SVC(C=1, gamma=1, kernel='rbf')\n",
    "random_cv = RandomizedSearchCV(\n",
    "    svc, cv=10, param_distributions=param_grid, n_iter=10, \n",
    "    scoring=score_param,iid= False)"
   ]
  },
  {
   "cell_type": "code",
   "execution_count": 60,
   "metadata": {
    "ExecuteTime": {
     "end_time": "2018-12-04T05:54:52.931496Z",
     "start_time": "2018-12-04T05:54:46.653811Z"
    }
   },
   "outputs": [
    {
     "name": "stdout",
     "output_type": "stream",
     "text": [
      "Train Accuracy: 0.99\n",
      "Cross Validation Accuracy: 0.85\n",
      "-------------------------------------\n",
      "Confusion Matrix:\n",
      "Predicted  en  ge  All\n",
      "Actual                \n",
      "en         16   2   18\n",
      "ge          1  14   15\n",
      "All        17  16   33\n"
     ]
    }
   ],
   "source": [
    "predictModelMetrics(random_cv,\"SVC\")"
   ]
  },
  {
   "cell_type": "code",
   "execution_count": 61,
   "metadata": {
    "ExecuteTime": {
     "end_time": "2018-12-04T05:54:52.946566Z",
     "start_time": "2018-12-04T05:54:52.934534Z"
    }
   },
   "outputs": [
    {
     "data": {
      "text/plain": [
       "{'C': 1.101, 'gamma': 1.601, 'kernel': 'linear'}"
      ]
     },
     "execution_count": 61,
     "metadata": {},
     "output_type": "execute_result"
    }
   ],
   "source": [
    "random_cv.best_params_"
   ]
  },
  {
   "cell_type": "code",
   "execution_count": 62,
   "metadata": {
    "ExecuteTime": {
     "end_time": "2018-12-04T05:54:59.526699Z",
     "start_time": "2018-12-04T05:54:52.948675Z"
    }
   },
   "outputs": [
    {
     "name": "stdout",
     "output_type": "stream",
     "text": [
      "Train Accuracy: 0.97\n",
      "Cross Validation Accuracy: 0.76\n",
      "-------------------------------------\n",
      "Confusion Matrix:\n",
      "Predicted  en  ge  All\n",
      "Actual                \n",
      "en         18   0   18\n",
      "ge          3  12   15\n",
      "All        21  12   33\n"
     ]
    }
   ],
   "source": [
    "#manually tune parameters as GridSearch is taking lot of time\n",
    "xgbc = XGBClassifier(max_depth=5,learning_rate=0.01,n_estimators=600)\n",
    "predictModelMetrics(xgbc,\"XGBoost Classifier\")"
   ]
  },
  {
   "cell_type": "code",
   "execution_count": 63,
   "metadata": {
    "ExecuteTime": {
     "end_time": "2018-12-04T05:54:59.536018Z",
     "start_time": "2018-12-04T05:54:59.528976Z"
    }
   },
   "outputs": [
    {
     "name": "stdout",
     "output_type": "stream",
     "text": [
      "                 Model  Score\n",
      "0          Naive Bayes   0.97\n",
      "1  Logistic Regression   0.67\n",
      "2                  KNN   0.91\n",
      "3                  SVC   0.85\n",
      "4   XGBoost Classifier   0.76\n"
     ]
    }
   ],
   "source": [
    "summarizeResults()"
   ]
  },
  {
   "cell_type": "markdown",
   "metadata": {},
   "source": [
    "#### Run the KNN which gives high Cross Validation accuracy on test data"
   ]
  },
  {
   "cell_type": "code",
   "execution_count": 64,
   "metadata": {
    "ExecuteTime": {
     "end_time": "2018-12-04T05:54:59.662982Z",
     "start_time": "2018-12-04T05:54:59.538058Z"
    }
   },
   "outputs": [
    {
     "name": "stdout",
     "output_type": "stream",
     "text": [
      "Accuracy Score on test:1.00\n"
     ]
    }
   ],
   "source": [
    "test_preds = knn.predict(X_test_matrix)\n",
    "#cv_score = cross_val_score(knn,X_test_matrix,y_test,scoring='accuracy',cv=5).mean()\n",
    "#print(\"CV on test:%.2f\"%cv_score)\n",
    "test_score = accuracy_score(y_test,test_preds)\n",
    "print(\"Accuracy Score on test:%.2f\"%test_score)"
   ]
  }
 ],
 "metadata": {
  "_draft": {
   "nbviewer_url": "https://gist.github.com/8f9bf255faa314fdaa487423a8d2a69f"
  },
  "gist": {
   "data": {
    "description": "Identification of Language from the given text",
    "public": true
   },
   "id": "8f9bf255faa314fdaa487423a8d2a69f"
  },
  "kernelspec": {
   "display_name": "Python 3",
   "language": "python",
   "name": "python3"
  },
  "language_info": {
   "codemirror_mode": {
    "name": "ipython",
    "version": 3
   },
   "file_extension": ".py",
   "mimetype": "text/x-python",
   "name": "python",
   "nbconvert_exporter": "python",
   "pygments_lexer": "ipython3",
   "version": "3.6.4"
  },
  "varInspector": {
   "cols": {
    "lenName": 16,
    "lenType": 16,
    "lenVar": 40
   },
   "kernels_config": {
    "python": {
     "delete_cmd_postfix": "",
     "delete_cmd_prefix": "del ",
     "library": "var_list.py",
     "varRefreshCmd": "print(var_dic_list())"
    },
    "r": {
     "delete_cmd_postfix": ") ",
     "delete_cmd_prefix": "rm(",
     "library": "var_list.r",
     "varRefreshCmd": "cat(var_dic_list()) "
    }
   },
   "types_to_exclude": [
    "module",
    "function",
    "builtin_function_or_method",
    "instance",
    "_Feature"
   ],
   "window_display": false
  }
 },
 "nbformat": 4,
 "nbformat_minor": 2
}
